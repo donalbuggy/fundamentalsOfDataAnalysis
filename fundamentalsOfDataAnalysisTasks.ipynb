{
 "cells": [
  {
   "cell_type": "markdown",
   "metadata": {},
   "source": []
  },
  {
   "cell_type": "code",
   "execution_count": 16,
   "metadata": {},
   "outputs": [
    {
     "data": {
      "text/plain": [
       "{'A': 3, 'B': 1, 'C': 1, 'F': 2}"
      ]
     },
     "execution_count": 16,
     "metadata": {},
     "output_type": "execute_result"
    }
   ],
   "source": [
    "list1 = ['A', 'A', 'B', 'C', 'A', 'F', 'F']\n",
    "\n",
    "def counts(listArgument):\n",
    "    # count the number of times each unique element appears in the list\n",
    "    # save element as a dict key, save number of times each one repeats as a value\n",
    "    \n",
    "    elementCount = {} # declaring the empty dictionary\n",
    "    \n",
    "    for key in listArgument:\n",
    "        elementCount[key] = elementCount.get(key, 0) + 1\n",
    "        # the for loop iterates through the elements in listArgument\n",
    "        # for each element in the list, it runs the get() method to check if it exists in the dictionary\n",
    "        # the get() method takes a key and a default return value as arguments\n",
    "        # if the key is not found in the dict, it is added with the value set to 0\n",
    "        # the value of that key is then incremented by 1\n",
    "    \n",
    "    return elementCount # returns the elementCount dicitonary to the terminal\n",
    "\n",
    "counts(list1)"
   ]
  },
  {
   "cell_type": "markdown",
   "metadata": {},
   "source": []
  },
  {
   "cell_type": "code",
   "execution_count": 1,
   "metadata": {
    "scrolled": true
   },
   "outputs": [
    {
     "name": "stdout",
     "output_type": "stream",
     "text": [
      "Round totals: \n",
      "[8, 10, 4, 7, 4, 4, 9, 10, 5, 10, 9, 5, 7, 10, 11, 6, 10, 9, 8, 3, 7, 9, 5, 8, 8, 2, 12, 11, 4, 6, 9, 7, 5, 7, 3, 7, 8, 8, 6, 7, 12, 2, 7, 5, 4, 4, 9, 6, 11, 11, 7, 9, 10, 8, 6, 9, 8, 3, 5, 5, 7, 2, 6, 8, 7, 4, 8, 8, 3, 6, 2, 8, 6, 5, 4, 7, 7, 4, 6, 4, 6, 4, 4, 4, 6, 6, 7, 9, 4, 7, 3, 8, 11, 6, 7, 3, 10, 6, 7, 11]\n",
      "\n",
      "Frequency of totals values: \n",
      "{2: 4, 3: 6, 4: 14, 5: 8, 6: 14, 7: 17, 8: 13, 9: 9, 10: 7, 11: 6, 12: 2}\n"
     ]
    }
   ],
   "source": [
    "import numpy as np\n",
    "\n",
    "rng = np.random.default_rng() # random number generator\n",
    "\n",
    "def dicerolls(k, n):\n",
    "    \n",
    "    # k = number of dice, n = number of rolls\n",
    "    # randomly choose a value of 1-6 k times, repeat this n times\n",
    "    # find the total value of each round and save to a dictionary as keys, frequency as values\n",
    "    # use the code from Task 1 to generate the dictionary\n",
    "    \n",
    "    resultsArray = {} # declaring the empty dictionary of results\n",
    "    \n",
    "    dicerollValues = [] # declaring the empty list of all diceroll results\n",
    "    \n",
    "    roundTotals = []\n",
    "    \n",
    "    possibleTotals = []\n",
    "    \n",
    "    for i in range(n): # for loop to calculate the values produced in all rounds\n",
    "        \n",
    "        roundNum = i + 1 # for counting each round in the terminal\n",
    "        dicerollRoundValues = []\n",
    "        \n",
    "        for j in range(k): # for loop to calculate the values produced in each round\n",
    "            faceValue = rng.integers(1,7)\n",
    "            # runs the integers() numpy function to generate a random integer between the limits\n",
    "            # (non-inclusive for upper limit)\n",
    "            dicerollRoundValues.append(faceValue) # appends the result of each die to the list\n",
    "            dicerollValues.append(faceValue) # appends the result of each die to the list of all rolls\n",
    "            \n",
    "        roundTotal = np.sum(dicerollRoundValues)\n",
    "        roundTotals.append(roundTotal)\n",
    "        \n",
    "        # print(\"Results in round \" + str(roundNum) + \":\" + \"\\n\" + str(dicerollRoundValues)) # prints results of each round\n",
    "        # print(\"Total  in round \" + str(roundNum) + \":\" + \"\\n\" + str(roundTotal))\n",
    "        # prints total value of each round using the sum() function, which takes an array as argument\n",
    "        \n",
    "    print(\"Round totals: \\n\" + str(roundTotals) + \"\\n\")\n",
    "    \n",
    "    lowestTotal = 1*k\n",
    "    highestTotal = 6*k\n",
    "    possibleTotals = list(range(lowestTotal, (highestTotal + 1)))\n",
    "    # print(\"Possible totals: \\n\" + str(possibleTotals) + \"\\n\")\n",
    "    \n",
    "    totalsFrequency = {}\n",
    "    \n",
    "    for key in possibleTotals:\n",
    "        totalsFrequency[key] = totalsFrequency.get(key, 0)\n",
    "    \n",
    "    for key in roundTotals:\n",
    "        totalsFrequency[key] = totalsFrequency.get(key, 0) + 1\n",
    "    print(\"Frequency of totals values: \\n\" + str(totalsFrequency))\n",
    "    \n",
    "    # return dicerollValues # returns the list of the first round of dicerolls\n",
    "    # return totalsFrequency\n",
    "\n",
    "dicerolls(2, 100)"
   ]
  },
  {
   "cell_type": "markdown",
   "metadata": {},
   "source": []
  },
  {
   "cell_type": "code",
   "execution_count": 23,
   "metadata": {
    "scrolled": true
   },
   "outputs": [
    {
     "name": "stdout",
     "output_type": "stream",
     "text": [
      "100\n",
      "Number of heads in this round: 52\n"
     ]
    }
   ],
   "source": [
    "# simulate 100 coinflips\n",
    "# do for 1000 rounds\n",
    "# track number of heads results in each round\n",
    "# plot results to show the bell-shaped curve\n",
    "\n",
    "import numpy as np\n",
    "import seaborn as sns\n",
    "\n",
    "rng = np.random.default_rng()\n",
    "\n",
    "# simulate 100 coinflips 1000 times\n",
    "# assuming 0 = heads, 1 = tails\n",
    "\n",
    "heads = 0\n",
    "tails = 0\n",
    "flipCount = 0\n",
    "headsList = []\n",
    "headsCount = 0\n",
    "\n",
    "while headsCount < 100:\n",
    "    x = rng.binomial(1, 0.5)\n",
    "    if x == 0:\n",
    "        headsList.append(x)\n",
    "    headsCount = headsCount + 1\n",
    "\n",
    "print(headsCount)\n",
    "print(\"Number of heads in this round: \" + str(len(headsList)))"
   ]
  },
  {
   "cell_type": "code",
   "execution_count": null,
   "metadata": {},
   "outputs": [],
   "source": []
  },
  {
   "cell_type": "code",
   "execution_count": null,
   "metadata": {},
   "outputs": [],
   "source": []
  }
 ],
 "metadata": {
  "kernelspec": {
   "display_name": "Python 3",
   "language": "python",
   "name": "python3"
  },
  "language_info": {
   "codemirror_mode": {
    "name": "ipython",
    "version": 3
   },
   "file_extension": ".py",
   "mimetype": "text/x-python",
   "name": "python",
   "nbconvert_exporter": "python",
   "pygments_lexer": "ipython3",
   "version": "3.8.3"
  }
 },
 "nbformat": 4,
 "nbformat_minor": 4
}
