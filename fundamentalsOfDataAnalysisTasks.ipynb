{
 "cells": [
  {
   "cell_type": "markdown",
   "metadata": {},
   "source": []
  },
  {
   "cell_type": "code",
   "execution_count": 16,
   "metadata": {},
   "outputs": [
    {
     "data": {
      "text/plain": [
       "{'A': 3, 'B': 1, 'C': 1, 'F': 2}"
      ]
     },
     "execution_count": 16,
     "metadata": {},
     "output_type": "execute_result"
    }
   ],
   "source": [
    "list1 = ['A', 'A', 'B', 'C', 'A', 'F', 'F']\n",
    "\n",
    "def counts(listArgument):\n",
    "    # count the number of times each unique element appears in the list\n",
    "    # save element as a dict key, save number of times each one repeats as a value\n",
    "    \n",
    "    elementCount = {} # declaring the empty dictionary\n",
    "    \n",
    "    for key in listArgument:\n",
    "        elementCount[key] = elementCount.get(key, 0) + 1\n",
    "        # the for loop iterates through the elements in listArgument\n",
    "        # for each element in the list, it runs the get() method to check if it exists in the dictionary\n",
    "        # the get() method takes a key and a default return value as arguments\n",
    "        # if the key is not found in the dict, it is added with the value set to 0\n",
    "        # the value of that key is then incremented by 1\n",
    "    \n",
    "    return elementCount # returns the elementCount dicitonary to the terminal\n",
    "\n",
    "counts(list1)"
   ]
  },
  {
   "cell_type": "markdown",
   "metadata": {},
   "source": []
  },
  {
   "cell_type": "code",
   "execution_count": 1,
   "metadata": {
    "scrolled": true
   },
   "outputs": [
    {
     "name": "stdout",
     "output_type": "stream",
     "text": [
      "Round totals: \n",
      "[8, 10, 4, 7, 4, 4, 9, 10, 5, 10, 9, 5, 7, 10, 11, 6, 10, 9, 8, 3, 7, 9, 5, 8, 8, 2, 12, 11, 4, 6, 9, 7, 5, 7, 3, 7, 8, 8, 6, 7, 12, 2, 7, 5, 4, 4, 9, 6, 11, 11, 7, 9, 10, 8, 6, 9, 8, 3, 5, 5, 7, 2, 6, 8, 7, 4, 8, 8, 3, 6, 2, 8, 6, 5, 4, 7, 7, 4, 6, 4, 6, 4, 4, 4, 6, 6, 7, 9, 4, 7, 3, 8, 11, 6, 7, 3, 10, 6, 7, 11]\n",
      "\n",
      "Frequency of totals values: \n",
      "{2: 4, 3: 6, 4: 14, 5: 8, 6: 14, 7: 17, 8: 13, 9: 9, 10: 7, 11: 6, 12: 2}\n"
     ]
    }
   ],
   "source": [
    "import numpy as np\n",
    "\n",
    "rng = np.random.default_rng() # random number generator\n",
    "\n",
    "def dicerolls(k, n):\n",
    "    \n",
    "    # k = number of dice, n = number of rolls\n",
    "    # randomly choose a value of 1-6 k times, repeat this n times\n",
    "    # find the total value of each round and save to a dictionary as keys, frequency as values\n",
    "    # use the code from Task 1 to generate the dictionary\n",
    "    \n",
    "    resultsArray = {} # declaring the empty dictionary of results\n",
    "    \n",
    "    dicerollValues = [] # declaring the empty list of all diceroll results\n",
    "    \n",
    "    roundTotals = []\n",
    "    \n",
    "    possibleTotals = []\n",
    "    \n",
    "    for i in range(n): # for loop to calculate the values produced in all rounds\n",
    "        \n",
    "        roundNum = i + 1 # for counting each round in the terminal\n",
    "        dicerollRoundValues = []\n",
    "        \n",
    "        for j in range(k): # for loop to calculate the values produced in each round\n",
    "            faceValue = rng.integers(1,7)\n",
    "            # runs the integers() numpy function to generate a random integer between the limits\n",
    "            # (non-inclusive for upper limit)\n",
    "            dicerollRoundValues.append(faceValue) # appends the result of each die to the list\n",
    "            dicerollValues.append(faceValue) # appends the result of each die to the list of all rolls\n",
    "            \n",
    "        roundTotal = np.sum(dicerollRoundValues)\n",
    "        roundTotals.append(roundTotal)\n",
    "        \n",
    "        # print(\"Results in round \" + str(roundNum) + \":\" + \"\\n\" + str(dicerollRoundValues)) # prints results of each round\n",
    "        # print(\"Total  in round \" + str(roundNum) + \":\" + \"\\n\" + str(roundTotal))\n",
    "        # prints total value of each round using the sum() function, which takes an array as argument\n",
    "        \n",
    "    print(\"Round totals: \\n\" + str(roundTotals) + \"\\n\")\n",
    "    \n",
    "    lowestTotal = 1*k\n",
    "    highestTotal = 6*k\n",
    "    possibleTotals = list(range(lowestTotal, (highestTotal + 1)))\n",
    "    # print(\"Possible totals: \\n\" + str(possibleTotals) + \"\\n\")\n",
    "    \n",
    "    totalsFrequency = {}\n",
    "    \n",
    "    for key in possibleTotals:\n",
    "        totalsFrequency[key] = totalsFrequency.get(key, 0)\n",
    "    \n",
    "    for key in roundTotals:\n",
    "        totalsFrequency[key] = totalsFrequency.get(key, 0) + 1\n",
    "    print(\"Frequency of totals values: \\n\" + str(totalsFrequency))\n",
    "    \n",
    "    # return dicerollValues # returns the list of the first round of dicerolls\n",
    "    # return totalsFrequency\n",
    "\n",
    "dicerolls(2, 100)"
   ]
  },
  {
   "cell_type": "markdown",
   "metadata": {},
   "source": []
  },
  {
   "cell_type": "code",
   "execution_count": 51,
   "metadata": {},
   "outputs": [
    {
     "name": "stdout",
     "output_type": "stream",
     "text": [
      "One flip: 1\n",
      "Hundred flips: [0 1 1 0 1 1 0 1 1 0 1 0 1 0 0 0 1 1 1 1 1 1 1 1 0 1 1 1 1 0 0 0 1 1 0 1 0\n",
      " 1 0 0 0 0 1 0 1 0 0 1 1 0 1 0 1 0 1 0 0 1 1 1 1 0 1 0 0 0 0 1 0 1 1 1 0 1\n",
      " 1 1 1 0 0 1 1 0 0 0 0 0 0 0 1 1 1 0 0 0 0 0 0 0 1 0]\n",
      "Thousand flips: [52 54 49 48 47 44 52 51 49 48 45 47 52 59 55 49 59 44 44 51 43 49 49 49\n",
      " 52 50 50 55 53 54 46 48 51 53 51 51 49 46 46 63 51 56 53 54 51 48 48 60\n",
      " 53 46 46 56 53 54 60 51 52 51 52 46 45 59 52 46 47 61 52 49 47 52 52 52\n",
      " 43 52 48 53 66 53 42 57 49 52 54 57 52 45 52 55 48 50 52 51 49 48 42 53\n",
      " 47 51 56 41 45 52 52 58 44 48 47 55 42 43 51 46 39 42 53 47 47 43 45 58\n",
      " 43 51 43 45 45 43 50 52 42 48 45 46 55 45 55 53 56 53 51 44 57 53 54 55\n",
      " 53 47 54 46 50 47 59 53 51 51 52 42 41 42 54 43 42 55 48 51 48 42 57 50\n",
      " 40 44 55 46 46 52 45 42 56 42 40 49 50 49 45 49 48 43 49 58 52 55 55 48\n",
      " 46 45 48 42 44 49 49 51 52 48 53 52 54 52 54 53 51 53 52 40 45 47 57 44\n",
      " 48 41 50 51 51 45 53 57 41 54 45 55 53 51 52 45 47 39 47 45 57 48 58 54\n",
      " 49 53 53 51 51 55 49 53 52 55 48 42 45 49 46 46 54 54 52 49 48 48 51 50\n",
      " 49 45 44 53 53 57 49 46 52 44 51 50 48 50 52 47 61 53 43 49 45 45 57 50\n",
      " 55 53 48 37 46 62 48 50 43 44 57 55 47 47 50 47 43 44 42 47 54 52 53 44\n",
      " 46 45 59 43 54 45 53 51 43 51 51 41 51 41 46 47 54 48 52 51 46 59 53 54\n",
      " 52 47 54 51 56 50 52 53 40 55 47 44 52 43 54 44 52 52 58 52 53 48 54 48\n",
      " 59 58 53 48 51 58 39 47 62 43 44 50 56 51 48 49 56 49 55 56 61 51 52 64\n",
      " 46 58 46 55 54 48 53 50 53 53 53 49 57 52 50 47 50 53 54 58 59 43 55 55\n",
      " 54 53 58 55 45 51 53 50 53 49 46 52 46 48 53 46 42 49 55 49 48 59 51 49\n",
      " 51 43 60 51 50 43 52 62 53 49 58 43 53 55 58 49 50 51 46 46 49 53 51 55\n",
      " 53 46 42 48 58 46 53 44 52 52 44 50 54 46 48 46 52 50 57 55 53 48 46 56\n",
      " 48 47 52 44 43 43 53 46 54 49 49 49 45 50 58 46 50 53 48 46 48 53 45 45\n",
      " 51 43 46 45 48 48 56 49 55 46 52 51 54 50 45 58 55 55 49 52 52 43 47 49\n",
      " 55 48 46 53 55 57 43 52 53 58 55 51 51 36 47 52 53 51 50 55 45 52 52 43\n",
      " 49 46 44 44 50 51 49 51 48 49 45 49 44 48 49 48 55 39 51 57 45 50 51 52\n",
      " 44 48 50 47 49 45 52 50 40 54 44 56 45 46 44 45 51 48 46 44 39 55 54 48\n",
      " 53 49 61 46 52 56 55 50 42 41 46 48 58 53 61 49 52 60 57 55 54 46 54 49\n",
      " 51 57 47 52 48 44 38 48 52 60 51 48 48 49 41 52 51 44 63 54 49 52 50 60\n",
      " 45 55 53 53 45 49 53 55 43 47 50 51 52 51 55 55 53 52 55 53 51 44 50 46\n",
      " 36 49 52 54 52 55 37 57 48 44 42 46 51 45 50 47 47 38 49 52 50 52 47 51\n",
      " 50 52 50 51 52 54 52 50 37 53 55 48 55 47 50 46 52 40 57 40 44 48 44 55\n",
      " 49 47 53 52 49 49 42 55 43 47 47 39 43 54 47 43 44 44 52 51 53 51 51 53\n",
      " 49 51 52 42 56 51 53 47 49 45 48 51 48 50 53 56 53 55 51 49 46 56 46 56\n",
      " 57 45 49 47 52 52 52 55 43 50 60 51 53 50 58 48 54 54 52 45 49 44 47 48\n",
      " 54 42 44 55 51 50 47 56 59 46 54 57 56 51 43 48 51 53 49 60 51 43 52 44\n",
      " 54 47 43 51 51 52 45 47 61 39 53 46 51 50 49 41 56 49 39 50 47 49 55 47\n",
      " 50 49 48 46 48 48 45 53 49 52 50 43 54 60 53 46 43 45 48 44 56 52 43 47\n",
      " 46 51 46 50 47 47 47 48 45 51 50 47 51 51 59 48 48 45 60 50 41 48 45 52\n",
      " 43 49 44 50 44 52 45 38 55 47 47 47 46 58 55 51 49 56 56 52 56 52 52 55\n",
      " 60 39 44 47 52 45 59 47 45 56 45 52 49 45 44 50 51 57 54 51 44 44 44 50\n",
      " 54 45 50 43 54 45 58 61 48 50 54 56 52 53 51 49 50 59 46 56 46 57 45 43\n",
      " 57 47 49 52 43 55 57 57 53 47 53 53 60 50 50 46 56 47 50 52 52 42 50 55\n",
      " 52 39 58 48 55 50 54 41 42 50 57 52 49 46 45 50]\n"
     ]
    }
   ],
   "source": [
    "# simulate 100 coinflips\n",
    "# do for 1000 rounds\n",
    "# track number of heads results\n",
    "# plot results to show the bell-shaped curve\n",
    "\n",
    "import numpy as np\n",
    "import seaborn as sns\n",
    "\n",
    "rng = np.random.default_rng()\n",
    "\n",
    "# simulate 1 coinflip using the numpy binomial distribution\n",
    "numFlips, flipProb = 1, 0.5 # setting the parameters for the binomial distribution function\n",
    "oneFlip = rng.binomial(numFlips, flipProb)\n",
    "print(\"One flip: \" + str(oneFlip))\n",
    "\n",
    "# simulate 100 coinflips\n",
    "numFlips, flipProb = 1, 0.5\n",
    "hundredFlips = rng.binomial(numFlips, flipProb, 100)\n",
    "print(\"Hundred flips: \" + str(hundredFlips))\n",
    "sum(hundredFlips) # adds all the 1 values in the hundredFlips array, giving the number of headsd\n",
    "\n",
    "# simulate 100 coinflips 1000 times\n",
    "numFlips = 100\n",
    "thousandFlips = rng.binomial(numFlips, flipProb, 1000)\n",
    "print(\"Thousand flips: \" + str(thousandFlips))"
   ]
  },
  {
   "cell_type": "code",
   "execution_count": null,
   "metadata": {
    "collapsed": true
   },
   "outputs": [],
   "source": []
  }
 ],
 "metadata": {
  "kernelspec": {
   "display_name": "Python 3",
   "language": "python",
   "name": "python3"
  },
  "language_info": {
   "codemirror_mode": {
    "name": "ipython",
    "version": 3
   },
   "file_extension": ".py",
   "mimetype": "text/x-python",
   "name": "python",
   "nbconvert_exporter": "python",
   "pygments_lexer": "ipython3",
   "version": "3.8.3"
  }
 },
 "nbformat": 4,
 "nbformat_minor": 4
}
