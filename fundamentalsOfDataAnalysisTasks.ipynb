{
 "cells": [
  {
   "cell_type": "markdown",
   "metadata": {},
   "source": []
  },
  {
   "cell_type": "code",
   "execution_count": 16,
   "metadata": {},
   "outputs": [
    {
     "data": {
      "text/plain": [
       "{'A': 3, 'B': 1, 'C': 1, 'F': 2}"
      ]
     },
     "execution_count": 16,
     "metadata": {},
     "output_type": "execute_result"
    }
   ],
   "source": [
    "list1 = ['A', 'A', 'B', 'C', 'A', 'F', 'F']\n",
    "\n",
    "def counts(listArgument):\n",
    "    # count the number of times each unique element appears in the list\n",
    "    # save element as a dict key, save number of times each one repeats as a value\n",
    "    \n",
    "    elementCount = {} # declaring the empty dictionary\n",
    "    \n",
    "    for key in listArgument:\n",
    "        elementCount[key] = elementCount.get(key, 0) + 1\n",
    "        # the for loop iterates through the elements in listArgument\n",
    "        # for each element in the list, it runs the get() method to check if it exists in the dictionary\n",
    "        # the get() method takes a key and a default return value as arguments\n",
    "        # if the key is not found in the dict, it is added with the value set to 0\n",
    "        # the value of that key is then incremented by 1\n",
    "    \n",
    "    return elementCount # returns the elementCount dicitonary to the terminal\n",
    "\n",
    "counts(list1)"
   ]
  },
  {
   "cell_type": "markdown",
   "metadata": {},
   "source": []
  },
  {
   "cell_type": "code",
   "execution_count": 1,
   "metadata": {
    "scrolled": true
   },
   "outputs": [
    {
     "name": "stdout",
     "output_type": "stream",
     "text": [
      "Round totals: \n",
      "[8, 10, 4, 7, 4, 4, 9, 10, 5, 10, 9, 5, 7, 10, 11, 6, 10, 9, 8, 3, 7, 9, 5, 8, 8, 2, 12, 11, 4, 6, 9, 7, 5, 7, 3, 7, 8, 8, 6, 7, 12, 2, 7, 5, 4, 4, 9, 6, 11, 11, 7, 9, 10, 8, 6, 9, 8, 3, 5, 5, 7, 2, 6, 8, 7, 4, 8, 8, 3, 6, 2, 8, 6, 5, 4, 7, 7, 4, 6, 4, 6, 4, 4, 4, 6, 6, 7, 9, 4, 7, 3, 8, 11, 6, 7, 3, 10, 6, 7, 11]\n",
      "\n",
      "Frequency of totals values: \n",
      "{2: 4, 3: 6, 4: 14, 5: 8, 6: 14, 7: 17, 8: 13, 9: 9, 10: 7, 11: 6, 12: 2}\n"
     ]
    }
   ],
   "source": [
    "import numpy as np\n",
    "\n",
    "rng = np.random.default_rng() # random number generator\n",
    "\n",
    "def dicerolls(k, n):\n",
    "    \n",
    "    # k = number of dice, n = number of rolls\n",
    "    # randomly choose a value of 1-6 k times, repeat this n times\n",
    "    # find the total value of each round and save to a dictionary as keys, frequency as values\n",
    "    # use the code from Task 1 to generate the dictionary\n",
    "    \n",
    "    resultsArray = {} # declaring the empty dictionary of results\n",
    "    \n",
    "    dicerollValues = [] # declaring the empty list of all diceroll results\n",
    "    \n",
    "    roundTotals = []\n",
    "    \n",
    "    possibleTotals = []\n",
    "    \n",
    "    for i in range(n): # for loop to calculate the values produced in all rounds\n",
    "        \n",
    "        roundNum = i + 1 # for counting each round in the terminal\n",
    "        dicerollRoundValues = []\n",
    "        \n",
    "        for j in range(k): # for loop to calculate the values produced in each round\n",
    "            faceValue = rng.integers(1,7)\n",
    "            # runs the integers() numpy function to generate a random integer between the limits\n",
    "            # (non-inclusive for upper limit)\n",
    "            dicerollRoundValues.append(faceValue) # appends the result of each die to the list\n",
    "            dicerollValues.append(faceValue) # appends the result of each die to the list of all rolls\n",
    "            \n",
    "        roundTotal = np.sum(dicerollRoundValues)\n",
    "        roundTotals.append(roundTotal)\n",
    "        \n",
    "        # print(\"Results in round \" + str(roundNum) + \":\" + \"\\n\" + str(dicerollRoundValues)) # prints results of each round\n",
    "        # print(\"Total  in round \" + str(roundNum) + \":\" + \"\\n\" + str(roundTotal))\n",
    "        # prints total value of each round using the sum() function, which takes an array as argument\n",
    "        \n",
    "    print(\"Round totals: \\n\" + str(roundTotals) + \"\\n\")\n",
    "    \n",
    "    lowestTotal = 1*k\n",
    "    highestTotal = 6*k\n",
    "    possibleTotals = list(range(lowestTotal, (highestTotal + 1)))\n",
    "    # print(\"Possible totals: \\n\" + str(possibleTotals) + \"\\n\")\n",
    "    \n",
    "    totalsFrequency = {}\n",
    "    \n",
    "    for key in possibleTotals:\n",
    "        totalsFrequency[key] = totalsFrequency.get(key, 0)\n",
    "    \n",
    "    for key in roundTotals:\n",
    "        totalsFrequency[key] = totalsFrequency.get(key, 0) + 1\n",
    "    print(\"Frequency of totals values: \\n\" + str(totalsFrequency))\n",
    "    \n",
    "    # return dicerollValues # returns the list of the first round of dicerolls\n",
    "    # return totalsFrequency\n",
    "\n",
    "dicerolls(2, 100)"
   ]
  },
  {
   "cell_type": "markdown",
   "metadata": {},
   "source": []
  },
  {
   "cell_type": "code",
   "execution_count": 47,
   "metadata": {
    "scrolled": true
   },
   "outputs": [
    {
     "name": "stdout",
     "output_type": "stream",
     "text": [
      "[46, 45, 53, 45, 44, 50, 49, 47, 38, 45, 53, 45, 44, 46, 46, 54, 42, 55, 58, 55, 55, 49, 46, 47, 47, 54, 49, 43, 48, 49, 51, 45, 47, 52, 55, 50, 65, 56, 64, 49, 49, 53, 51, 48, 62, 49, 49, 50, 47, 48, 52, 47, 50, 41, 51, 48, 49, 55, 60, 46, 42, 51, 47, 55, 50, 50, 54, 49, 43, 56, 55, 49, 53, 49, 47, 51, 60, 52, 45, 52, 48, 46, 51, 45, 52, 53, 55, 55, 53, 50, 58, 52, 47, 50, 51, 55, 52, 55, 57, 49, 55, 53, 49, 47, 45, 62, 47, 47, 46, 42, 48, 47, 45, 50, 51, 51, 48, 58, 51, 53, 48, 58, 51, 56, 42, 45, 48, 51, 55, 61, 60, 50, 46, 45, 54, 49, 62, 48, 49, 43, 38, 50, 47, 49, 53, 40, 43, 63, 54, 47, 55, 54, 60, 60, 42, 55, 48, 52, 42, 47, 59, 51, 53, 47, 47, 53, 41, 53, 52, 45, 46, 47, 52, 47, 47, 43, 61, 53, 47, 46, 51, 52, 49, 43, 47, 51, 44, 52, 55, 50, 51, 44, 51, 53, 53, 40, 51, 54, 52, 52, 53, 51, 49, 52, 45, 50, 55, 56, 38, 45, 43, 55, 41, 52, 49, 59, 48, 54, 41, 58, 53, 56, 53, 52, 41, 52, 53, 45, 47, 63, 53, 45, 52, 51, 48, 49, 56, 46, 50, 45, 49, 53, 52, 53, 52, 41, 47, 52, 43, 47, 49, 48, 53, 50, 41, 46, 50, 51, 55, 52, 51, 54, 49, 46, 46, 55, 46, 49, 57, 51, 44, 46, 42, 54, 52, 45, 41, 53, 56, 49, 52, 49, 48, 40, 56, 52, 52, 50, 39, 50, 47, 59, 51, 52, 56, 45, 46, 46, 41, 55, 49, 48, 54, 51, 48, 44, 47, 49, 55, 49, 53, 43, 43, 48, 54, 58, 54, 62, 47, 43, 45, 47, 40, 44, 42, 41, 56, 55, 48, 43, 49, 50, 54, 52, 49, 43, 50, 61, 48, 55, 58, 56, 48, 47, 53, 44, 52, 54, 53, 53, 52, 41, 58, 51, 40, 43, 57, 47, 59, 52, 51, 52, 50, 50, 44, 52, 47, 45, 41, 53, 55, 55, 48, 53, 53, 53, 49, 54, 59, 56, 47, 61, 48, 54, 46, 39, 62, 47, 49, 47, 56, 56, 53, 54, 40, 49, 51, 58, 47, 49, 47, 43, 44, 41, 47, 54, 55, 51, 47, 48, 53, 49, 51, 45, 50, 54, 48, 44, 54, 49, 48, 59, 57, 46, 50, 48, 55, 57, 49, 45, 49, 43, 49, 52, 51, 53, 51, 49, 47, 39, 47, 45, 55, 46, 41, 44, 59, 50, 50, 43, 52, 50, 50, 52, 45, 50, 56, 50, 54, 41, 52, 51, 51, 46, 55, 49, 50, 46, 57, 54, 49, 57, 35, 55, 42, 48, 41, 42, 39, 40, 52, 55, 49, 55, 46, 49, 40, 45, 45, 50, 45, 48, 51, 43, 45, 48, 44, 46, 49, 59, 47, 45, 50, 49, 47, 47, 49, 59, 56, 46, 45, 46, 52, 51, 42, 44, 49, 48, 55, 48, 52, 44, 56, 52, 54, 49, 51, 54, 50, 50, 48, 47, 51, 52, 46, 37, 47, 55, 53, 53, 50, 54, 49, 46, 51, 41, 42, 57, 57, 47, 47, 48, 53, 59, 53, 50, 48, 47, 56, 53, 49, 51, 54, 51, 45, 43, 49, 58, 36, 54, 49, 49, 56, 50, 49, 51, 55, 53, 48, 48, 48, 54, 52, 49, 58, 49, 44, 49, 53, 53, 51, 43, 49, 41, 54, 47, 49, 55, 51, 49, 47, 58, 48, 40, 51, 50, 55, 47, 57, 49, 45, 48, 53, 45, 50, 55, 52, 54, 45, 55, 47, 49, 43, 55, 53, 55, 52, 47, 47, 53, 54, 44, 53, 51, 44, 39, 46, 40, 50, 43, 49, 47, 58, 56, 56, 51, 50, 59, 60, 59, 49, 52, 45, 51, 45, 50, 47, 49, 49, 44, 47, 42, 52, 43, 49, 47, 46, 52, 52, 48, 49, 40, 51, 53, 45, 50, 52, 57, 51, 53, 58, 53, 59, 38, 47, 50, 56, 44, 50, 49, 48, 42, 43, 57, 51, 44, 51, 49, 53, 58, 53, 48, 49, 38, 53, 44, 44, 46, 46, 49, 46, 57, 54, 53, 57, 51, 57, 46, 49, 49, 47, 51, 50, 50, 44, 55, 46, 52, 48, 50, 53, 49, 55, 54, 51, 56, 54, 50, 51, 53, 56, 44, 57, 52, 49, 48, 50, 48, 59, 54, 57, 45, 49, 51, 44, 57, 50, 53, 45, 52, 39, 63, 57, 48, 54, 40, 52, 55, 45, 48, 49, 43, 57, 49, 53, 57, 55, 46, 50, 44, 53, 55, 55, 53, 42, 48, 48, 58, 54, 46, 45, 55, 66, 49, 51, 44, 50, 52, 48, 48, 53, 60, 53, 51, 45, 51, 46, 41, 49, 44, 51, 47, 47, 59, 48, 54, 54, 44, 59, 43, 47, 51, 50, 50, 55, 51, 49, 46, 43, 37, 58, 43, 49, 54, 56, 44, 53, 50, 47, 53, 47, 44, 50, 47, 53, 54, 51, 47, 43, 59, 53, 54, 45, 50, 55, 44, 43, 51, 53, 54, 54, 52, 58, 44, 42, 51, 43, 55, 56, 54, 45, 57, 47, 53, 57, 55, 52, 46, 55, 48, 42, 53, 51, 52, 46, 57, 50, 58, 52, 60, 57, 44, 55, 64, 44, 48, 55, 50, 48, 55, 57, 50, 49, 54, 49, 53, 50, 42, 43, 47, 49, 48, 49, 47, 53, 57, 49, 55, 56, 51, 49, 47, 53, 55, 59, 48, 46, 47, 54, 45, 53, 45, 52, 44, 42, 44, 44, 52, 51, 43, 49, 48, 48, 52, 43, 37, 55, 53, 49, 57, 53, 49, 44, 55, 48, 57, 49, 45, 46, 46, 50, 50, 49, 42, 54, 54, 42, 45, 44, 51, 56, 43, 50, 44, 49, 46, 55, 54, 53, 59, 57, 42, 46, 55, 51, 51, 47, 52, 36, 55, 51, 49, 51, 56, 63, 54, 51, 53, 48, 53]\n"
     ]
    },
    {
     "data": {
      "text/plain": [
       "<matplotlib.axes._subplots.AxesSubplot at 0x1c2d7ecad60>"
      ]
     },
     "execution_count": 47,
     "metadata": {},
     "output_type": "execute_result"
    },
    {
     "data": {
      "image/png": "[encoded data removed]",
      "text/plain": [
       "<Figure size 432x288 with 1 Axes>"
      ]
     },
     "metadata": {
      "needs_background": "light"
     },
     "output_type": "display_data"
    }
   ],
   "source": [
    "# simulate 100 coinflips\n",
    "# do for 1000 rounds\n",
    "# track number of heads results in each round\n",
    "# plot results to show the bell-shaped curve\n",
    "\n",
    "import numpy as np\n",
    "import seaborn as sns\n",
    "\n",
    "rng = np.random.default_rng()\n",
    "\n",
    "# simulate 100 coinflips 1000 times\n",
    "\n",
    "headsList = []\n",
    "roundList = []\n",
    "roundsCount = 0\n",
    "\n",
    "while roundsCount < 1000:\n",
    "    headsList = rng.binomial(100, 0.5)\n",
    "    roundsCount = roundsCount + 1\n",
    "    roundList.append(headsList)\n",
    "\n",
    "print(roundList)\n",
    "\n",
    "sns.distplot(roundList, bins=10)"
   ]
  },
  {
   "cell_type": "markdown",
   "metadata": {
    "collapsed": true
   },
   "source": []
  },
  {
   "cell_type": "code",
   "execution_count": null,
   "metadata": {},
   "outputs": [],
   "source": []
  }
 ],
 "metadata": {
  "kernelspec": {
   "display_name": "Python 3",
   "language": "python",
   "name": "python3"
  },
  "language_info": {
   "codemirror_mode": {
    "name": "ipython",
    "version": 3
   },
   "file_extension": ".py",
   "mimetype": "text/x-python",
   "name": "python",
   "nbconvert_exporter": "python",
   "pygments_lexer": "ipython3",
   "version": "3.8.3"
  }
 },
 "nbformat": 4,
 "nbformat_minor": 4
}
