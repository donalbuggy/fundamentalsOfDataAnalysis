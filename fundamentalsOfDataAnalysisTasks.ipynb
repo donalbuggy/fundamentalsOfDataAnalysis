{
 "cells": [
  {
   "cell_type": "code",
   "execution_count": 16,
   "metadata": {},
   "outputs": [
    {
     "data": {
      "text/plain": [
       "{'A': 3, 'B': 1, 'C': 1, 'F': 2}"
      ]
     },
     "execution_count": 16,
     "metadata": {},
     "output_type": "execute_result"
    }
   ],
   "source": [
    "list1 = ['A', 'A', 'B', 'C', 'A', 'F', 'F']\n",
    "\n",
    "def counts(listArgument):\n",
    "    # count the number of times each unique element appears in the list\n",
    "    # save element as a dict key, save number of times each one repeats as a value\n",
    "    \n",
    "    elementCount = {} # declaring the empty dictionary\n",
    "    \n",
    "    for key in listArgument:\n",
    "        elementCount[key] = elementCount.get(key, 0) + 1\n",
    "        # the for loop iterates through the elements in listArgument\n",
    "        # for each element in the list, it runs the get() method to check if it exists in the dictionary\n",
    "        # the get() method takes a key and a default return value as arguments\n",
    "        # if the key is not found in the dict, it is added with the value set to 0\n",
    "        # the value of that key is then incremented by 1\n",
    "    \n",
    "    return elementCount # returns the elementCount dicitonary to the terminal\n",
    "\n",
    "counts(list1)"
   ]
  },
  {
   "cell_type": "code",
   "execution_count": 102,
   "metadata": {
    "scrolled": true
   },
   "outputs": [
    {
     "name": "stdout",
     "output_type": "stream",
     "text": [
      "Results in round 1:\n",
      "[4, 1]\n",
      "Total  in round 1:\n",
      "5\n",
      "Results in round 2:\n",
      "[2, 3]\n",
      "Total  in round 2:\n",
      "5\n",
      "Results in round 3:\n",
      "[4, 5]\n",
      "Total  in round 3:\n",
      "9\n",
      "Results in round 4:\n",
      "[4, 3]\n",
      "Total  in round 4:\n",
      "7\n",
      "Results in round 5:\n",
      "[4, 6]\n",
      "Total  in round 5:\n",
      "10\n",
      "[5, 5, 9, 7, 10]\n"
     ]
    },
    {
     "data": {
      "text/plain": [
       "[4, 1, 2, 3, 4, 5, 4, 3, 4, 6]"
      ]
     },
     "execution_count": 102,
     "metadata": {},
     "output_type": "execute_result"
    }
   ],
   "source": [
    "import numpy as np\n",
    "\n",
    "rng = np.random.default_rng() # random number generator\n",
    "\n",
    "def dicerolls(k, n):\n",
    "    \n",
    "    # k = number of dice, n = number of rolls\n",
    "    # randomly choose a value of 1-6 k times, repeat this n times\n",
    "    # find the total value of each round and save to a dictionary as keys, frequency as values\n",
    "    # use the code from Task 1 to generate the dictionary\n",
    "    \n",
    "    resultsArray = {} # declaring the empty dictionary of results\n",
    "    \n",
    "    dicerollValues = [] # declaring the empty list of all diceroll results\n",
    "    \n",
    "    roundTotals = []\n",
    "    \n",
    "    for i in range(n):\n",
    "        \n",
    "        i = i + 1 # for counting each round in the terminal\n",
    "        dicerollRoundValues = []\n",
    "        \n",
    "        for j in range(k):\n",
    "            faceValue = rng.integers(1,7)\n",
    "            # runs the integers() numpy function to generate a random integer between the limits\n",
    "            # (non-inclusive for upper limit)\n",
    "            dicerollRoundValues.append(faceValue) # appends the result of each die to the list\n",
    "            dicerollValues.append(faceValue) # appends the result of each die to the list of all rolls\n",
    "            \n",
    "        roundTotal = np.sum(dicerollRoundValues)\n",
    "        roundTotals.append(roundTotal)\n",
    "        \n",
    "        print(\"Results in round \" + str(i) + \":\" + \"\\n\" + str(dicerollRoundValues)) # prints results of each round\n",
    "        print(\"Total  in round \" + str(i) + \":\" + \"\\n\" + str(roundTotal))\n",
    "        # prints total value of each round using the sum() function, which takes an array as argument\n",
    "        \n",
    "    print(roundTotals)\n",
    "    return dicerollValues # returns the list of the first round of dicerolls\n",
    "\n",
    "dicerolls(2, 5)"
   ]
  },
  {
   "cell_type": "code",
   "execution_count": null,
   "metadata": {
    "collapsed": true
   },
   "outputs": [],
   "source": []
  }
 ],
 "metadata": {
  "kernelspec": {
   "display_name": "Python 3",
   "language": "python",
   "name": "python3"
  },
  "language_info": {
   "codemirror_mode": {
    "name": "ipython",
    "version": 3
   },
   "file_extension": ".py",
   "mimetype": "text/x-python",
   "name": "python",
   "nbconvert_exporter": "python",
   "pygments_lexer": "ipython3",
   "version": "3.8.3"
  }
 },
 "nbformat": 4,
 "nbformat_minor": 4
}
