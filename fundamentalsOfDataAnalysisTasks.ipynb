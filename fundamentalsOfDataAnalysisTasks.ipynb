{
 "cells": [
  {
   "cell_type": "code",
   "execution_count": 16,
   "metadata": {},
   "outputs": [
    {
     "data": {
      "text/plain": [
       "{'A': 3, 'B': 1, 'C': 1, 'F': 2}"
      ]
     },
     "execution_count": 16,
     "metadata": {},
     "output_type": "execute_result"
    }
   ],
   "source": [
    "list1 = ['A', 'A', 'B', 'C', 'A', 'F', 'F']\n",
    "\n",
    "def counts(listArgument):\n",
    "    # count the number of times each unique element appears in the list\n",
    "    # save element as a dict key, save number of times each one repeats as a value\n",
    "    \n",
    "    elementCount = {} # declaring the empty dictionary\n",
    "    \n",
    "    for key in listArgument:\n",
    "        elementCount[key] = elementCount.get(key, 0) + 1\n",
    "        # the for loop iterates through the elements in listArgument\n",
    "        # for each element in the list, it runs the get() method to check if it exists in the dictionary\n",
    "        # the get() method takes a key and a default return value as arguments\n",
    "        # if the key is not found in the dict, it is added with the value set to 0\n",
    "        # the value of that key is then incremented by 1\n",
    "    \n",
    "    return elementCount # returns the elementCount dicitonary to the terminal\n",
    "\n",
    "counts(list1)"
   ]
  },
  {
   "cell_type": "code",
   "execution_count": 58,
   "metadata": {},
   "outputs": [
    {
     "name": "stdout",
     "output_type": "stream",
     "text": [
      "[5, 3, 2]\n",
      "[5, 3, 1]\n",
      "[6, 4, 6]\n",
      "[3, 4, 3]\n",
      "[3, 6, 3]\n"
     ]
    },
    {
     "data": {
      "text/plain": [
       "[5, 3, 2, 5, 3, 1, 6, 4, 6, 3, 4, 3, 3, 6, 3]"
      ]
     },
     "execution_count": 58,
     "metadata": {},
     "output_type": "execute_result"
    }
   ],
   "source": [
    "import numpy as np\n",
    "\n",
    "rng = np.random.default_rng() # random number generator\n",
    "\n",
    "def dicerolls(k, n):\n",
    "    \n",
    "    # k = number of dice, n = number of rolls\n",
    "    # randomly choose a value of 1-6 k times, repeat this n times\n",
    "    # save each result to a list\n",
    "    # use the code from Task 1 to generate the dictionary\n",
    "    \n",
    "    dicerollValues = [] # declaring the empty list of diceroll results\n",
    "    \n",
    "    for i in range(n):\n",
    "        dicerollRoundValues = []\n",
    "        for i in range(k):\n",
    "            faceValue = rng.integers(1,7)\n",
    "            # runs the integers() numpy function to generate a random integer between the limits\n",
    "            # (non-inclusive for upper limit)\n",
    "            dicerollRoundValues.append(faceValue) # appends the result of each die to the list\n",
    "            dicerollValues.append(faceValue)\n",
    "        print(dicerollRoundValues)\n",
    "    return dicerollValues # returns the list of the first round of dicerolls\n",
    "\n",
    "dicerolls(3, 5)"
   ]
  },
  {
   "cell_type": "code",
   "execution_count": null,
   "metadata": {},
   "outputs": [],
   "source": []
  }
 ],
 "metadata": {
  "kernelspec": {
   "display_name": "Python 3",
   "language": "python",
   "name": "python3"
  },
  "language_info": {
   "codemirror_mode": {
    "name": "ipython",
    "version": 3
   },
   "file_extension": ".py",
   "mimetype": "text/x-python",
   "name": "python",
   "nbconvert_exporter": "python",
   "pygments_lexer": "ipython3",
   "version": "3.8.3"
  }
 },
 "nbformat": 4,
 "nbformat_minor": 4
}
