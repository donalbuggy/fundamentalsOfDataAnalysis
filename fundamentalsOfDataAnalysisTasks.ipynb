{
 "cells": [
  {
   "cell_type": "code",
   "execution_count": null,
   "metadata": {},
   "outputs": [],
   "source": [
    "list1 = ['A', 'A', 'B', 'C', 'A']\n",
    "\n",
    "def counts(x):\n",
    "    # count the number of times each unique element appears in the list\n",
    "    # save element as a dict key, save number of times each one repeats as a value\n",
    "    elementCount = {}\n",
    "    "
   ]
  },
  {
   "cell_type": "code",
   "execution_count": null,
   "metadata": {},
   "outputs": [],
   "source": [
    "import numpy as np\n",
    "\n",
    "def dicerolls(k, n):\n",
    "    # k = number of dice, n = number of rolls\n",
    "    # randomly choose a value of 1-6 k times, repeat this n times\n",
    "    # save each returned value as a dict key, save number of times each one repeats as a value\n",
    "    dicerollValues = {}\n",
    "    rng = np.random.default_rng()\n",
    "    for i in k:\n",
    "        faceValue = rng.integers(1,7)"
   ]
  },
  {
   "cell_type": "code",
   "execution_count": null,
   "metadata": {},
   "outputs": [],
   "source": []
  }
 ],
 "metadata": {
  "kernelspec": {
   "display_name": "Python 3",
   "language": "python",
   "name": "python3"
  },
  "language_info": {
   "codemirror_mode": {
    "name": "ipython",
    "version": 3
   },
   "file_extension": ".py",
   "mimetype": "text/x-python",
   "name": "python",
   "nbconvert_exporter": "python",
   "pygments_lexer": "ipython3",
   "version": "3.8.3"
  }
 },
 "nbformat": 4,
 "nbformat_minor": 4
}
